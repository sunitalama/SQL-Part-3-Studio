{
    "metadata": {
        "kernelspec": {
            "name": "SQL",
            "display_name": "SQL",
            "language": "sql"
        },
        "language_info": {
            "name": "sql",
            "version": ""
        },
        "extensions": {
            "azuredatastudio": {
                "version": 1,
                "views": []
            }
        }
    },
    "nbformat_minor": 2,
    "nbformat": 4,
    "cells": [
        {
            "cell_type": "markdown",
            "source": [
                "# SQL Part 3 Studio\n",
                "\n",
                "### Let's practice your SQL quering skills!  For each question, work along in the notebook adding your query and answering the questions. \n",
                "\n",
                "### **DataSet**\n",
                "\n",
                "### <span style=\"font-size: 14px; font-family: -apple-system, BlinkMacSystemFont, sans-serif;\">We will be using the Goodbooks-10k dataset from the exercises in the prep work.&nbsp; Feel free reference your previous notebooks.</span>\n",
                "\n",
                "- The dataset can be found here: [goodbooks-10k](https://www.kaggle.com/zygmunt/goodbooks-10k)\n",
                "- You can access the **BooksDB** in the Launchcode server.\n",
                "\n",
                "### **Business Issue**\n",
                "\n",
                "You are an employee at a small independet bookstore and you have been tasked to increase sales.  You decide to use the BooksDB to find books and themes to highlight in fun promotions throughout each month / season.  We will be starting with March and then you will have a chance to explore another month of your choosing.  We want to come up with a list of events/ promotions to run each month.  If you are looking for ideas to include in your promotions:\n",
                "\n",
                "- [https://www.calendarr.com/united-states/calendar-2022/](https://www.calendarr.com/united-states/calendar-2022/)\n",
                "- [https://www.holidayinsights.com/moreholidays/](https://www.holidayinsights.com/moreholidays/)\n",
                "    - Click on a month and it will take you to a more detailed page"
            ],
            "metadata": {
                "azdata_cell_guid": "b9034d8a-b631-48bf-a895-1012a6ffa784"
            },
            "attachments": {}
        },
        {
            "cell_type": "markdown",
            "source": [
                "## Part 1:  March - Women's History Month, Dr Seuss Day(3/2), National Pie Day3/14, St Patrick's Day (3/17), Season - Spring"
            ],
            "metadata": {
                "azdata_cell_guid": "6e55eb1c-4a14-4076-90d2-95ed17a6309f"
            },
            "attachments": {}
        },
        {
            "cell_type": "markdown",
            "source": [
                "### **Event 1:** Women's History Month\n",
                "\n",
                "Goal: Highlight Popular Womans Authors based on ratings from the Good Reads DB.\n",
                "\n",
                "### **Write a query that returns tag\\_id, the number of times each tag\\_id is used and the tag\\_name.**  \n",
                "\n",
                "### Use the GROUP BY and HAVING clause to narrow your focus.\n",
                "\n",
                "Try multiple keywords, ie woman vs female (female ended up giving better results)"
            ],
            "metadata": {
                "azdata_cell_guid": "d220c097-e9cf-4edd-9abe-312d071217b7"
            },
            "attachments": {}
        },
        {
            "cell_type": "code",
            "source": [
                "SELECT TOP 10 t.tag_name, bt.tag_id, SUM(bt.count) AS total\r\n",
                "FROM BooksDB.dbo.book_tags AS bt\r\n",
                "INNER JOIN BooksDB.dbo.tags AS t \r\n",
                "ON bt.tag_id = t.tag_id\r\n",
                "GROUP BY t.tag_name, bt.tag_id\r\n",
                "HAVING t.tag_name LIKE '%female%'\r\n",
                "ORDER BY total DESC\r\n",
                ""
            ],
            "metadata": {
                "azdata_cell_guid": "5c38095b-084d-47fb-b00a-b968128781bf",
                "language": "sql",
                "tags": []
            },
            "outputs": [
                {
                    "output_type": "display_data",
                    "data": {
                        "text/html": "(10 rows affected)"
                    },
                    "metadata": {}
                },
                {
                    "output_type": "display_data",
                    "data": {
                        "text/html": "Total execution time: 00:00:00.276"
                    },
                    "metadata": {}
                },
                {
                    "output_type": "execute_result",
                    "metadata": {},
                    "execution_count": 5,
                    "data": {
                        "application/vnd.dataresource+json": {
                            "schema": {
                                "fields": [
                                    {
                                        "name": "tag_name"
                                    },
                                    {
                                        "name": "tag_id"
                                    },
                                    {
                                        "name": "total"
                                    }
                                ]
                            },
                            "data": [
                                {
                                    "0": "female-author",
                                    "1": "11643",
                                    "2": "17999"
                                },
                                {
                                    "0": "female-authors",
                                    "1": "11644",
                                    "2": "13690"
                                },
                                {
                                    "0": "female-protagonist",
                                    "1": "11658",
                                    "2": "2554"
                                },
                                {
                                    "0": "female-detective",
                                    "1": "11646",
                                    "2": "302"
                                },
                                {
                                    "0": "female-pov",
                                    "1": "11656",
                                    "2": "155"
                                },
                                {
                                    "0": "female-writers",
                                    "1": "11662",
                                    "2": "147"
                                },
                                {
                                    "0": "female",
                                    "1": "11642",
                                    "2": "133"
                                },
                                {
                                    "0": "female-lead",
                                    "1": "11652",
                                    "2": "61"
                                },
                                {
                                    "0": "strong-female-lead",
                                    "1": "28834",
                                    "2": "61"
                                },
                                {
                                    "0": "female-detectives",
                                    "1": "11647",
                                    "2": "59"
                                }
                            ]
                        },
                        "text/html": [
                            "<table>",
                            "<tr><th>tag_name</th><th>tag_id</th><th>total</th></tr>",
                            "<tr><td>female-author</td><td>11643</td><td>17999</td></tr>",
                            "<tr><td>female-authors</td><td>11644</td><td>13690</td></tr>",
                            "<tr><td>female-protagonist</td><td>11658</td><td>2554</td></tr>",
                            "<tr><td>female-detective</td><td>11646</td><td>302</td></tr>",
                            "<tr><td>female-pov</td><td>11656</td><td>155</td></tr>",
                            "<tr><td>female-writers</td><td>11662</td><td>147</td></tr>",
                            "<tr><td>female</td><td>11642</td><td>133</td></tr>",
                            "<tr><td>female-lead</td><td>11652</td><td>61</td></tr>",
                            "<tr><td>strong-female-lead</td><td>28834</td><td>61</td></tr>",
                            "<tr><td>female-detectives</td><td>11647</td><td>59</td></tr>",
                            "</table>"
                        ]
                    }
                }
            ],
            "execution_count": 5
        },
        {
            "cell_type": "markdown",
            "source": [
                "### **Which keyword(s) and tag(s) would you like to explore more?**\n",
                "\n",
                "Double click to edit."
            ],
            "metadata": {
                "azdata_cell_guid": "e9acd8b5-a62b-4ac0-bd07-19915b379ba6"
            },
            "attachments": {}
        },
        {
            "cell_type": "markdown",
            "source": [
                "### **Write a query to return authors, titles, ratings and** **selected tag(s)\\_id.**"
            ],
            "metadata": {
                "azdata_cell_guid": "59b84464-c0bc-4dac-9e02-0c803765b063"
            },
            "attachments": {}
        },
        {
            "cell_type": "code",
            "source": [
                "-- Solution\r\n",
                "\r\n",
                "SELECT TOP 5 b.authors, b.title, b.average_rating, bt.tag_id\r\n",
                "FROM  BooksDB.dbo. books AS b \r\n",
                "INNER JOIN  BooksDB.dbo.book_tags AS bt \r\n",
                "ON b.best_book_id = bt.goodreads_book_id\r\n",
                "WHERE tag_id = 11643 OR tag_id = 11644\r\n",
                "ORDER BY average_rating DESC\r\n",
                ""
            ],
            "metadata": {
                "azdata_cell_guid": "51ffeaaf-6dde-4906-95f3-eb8757babf27",
                "tags": [],
                "language": "sql"
            },
            "outputs": [
                {
                    "output_type": "display_data",
                    "data": {
                        "text/html": "(5 rows affected)"
                    },
                    "metadata": {}
                },
                {
                    "output_type": "display_data",
                    "data": {
                        "text/html": "Total execution time: 00:00:00.158"
                    },
                    "metadata": {}
                },
                {
                    "output_type": "execute_result",
                    "metadata": {},
                    "execution_count": 7,
                    "data": {
                        "application/vnd.dataresource+json": {
                            "schema": {
                                "fields": [
                                    {
                                        "name": "authors"
                                    },
                                    {
                                        "name": "title"
                                    },
                                    {
                                        "name": "average_rating"
                                    },
                                    {
                                        "name": "tag_id"
                                    }
                                ]
                            },
                            "data": [
                                {
                                    "0": "J.K. Rowling, Mary GrandPré",
                                    "1": "The Harry Potter Collection 1-4 (Harry Potter, #1-4)",
                                    "2": "4.66",
                                    "3": "11643"
                                },
                                {
                                    "0": "Jane Austen",
                                    "1": "The Complete Novels",
                                    "2": "4.55",
                                    "3": "11644"
                                },
                                {
                                    "0": "Bisco Hatori",
                                    "1": "Ouran High School Host Club, Vol. 15 (Ouran High School Host Club, #15)",
                                    "2": "4.54",
                                    "3": "11643"
                                },
                                {
                                    "0": "Robin Hobb",
                                    "1": "Fool's Quest  (The Fitz and The Fool, #2)",
                                    "2": "4.53",
                                    "3": "11643"
                                },
                                {
                                    "0": "Robin Hobb",
                                    "1": "Fool's Quest  (The Fitz and The Fool, #2)",
                                    "2": "4.53",
                                    "3": "11644"
                                }
                            ]
                        },
                        "text/html": [
                            "<table>",
                            "<tr><th>authors</th><th>title</th><th>average_rating</th><th>tag_id</th></tr>",
                            "<tr><td>J.K. Rowling, Mary GrandPré</td><td>The Harry Potter Collection 1-4 (Harry Potter, #1-4)</td><td>4.66</td><td>11643</td></tr>",
                            "<tr><td>Jane Austen</td><td>The Complete Novels</td><td>4.55</td><td>11644</td></tr>",
                            "<tr><td>Bisco Hatori</td><td>Ouran High School Host Club, Vol. 15 (Ouran High School Host Club, #15)</td><td>4.54</td><td>11643</td></tr>",
                            "<tr><td>Robin Hobb</td><td>Fool's Quest  (The Fitz and The Fool, #2)</td><td>4.53</td><td>11643</td></tr>",
                            "<tr><td>Robin Hobb</td><td>Fool's Quest  (The Fitz and The Fool, #2)</td><td>4.53</td><td>11644</td></tr>",
                            "</table>"
                        ]
                    }
                }
            ],
            "execution_count": 7
        },
        {
            "cell_type": "markdown",
            "source": [
                "### **Record your thoughts about why you wrote the query the way you did.**"
            ],
            "metadata": {
                "azdata_cell_guid": "1e19a72c-1bca-446b-a0c7-a8efbc35dcf1"
            },
            "attachments": {}
        },
        {
            "cell_type": "markdown",
            "source": [
                "#  Part 2: Choose Another Month\n",
                "\n",
                "Choose another month and plan at least 2 events / promotions and answer the following questions.\n",
                "\n",
                "Which month did you choose?  \n",
                "\n",
                "What 2 events / promotions are you highlighting?\n",
                "\n",
                "> 1. October\n",
                "\n",
                "> 2. Halloween, world smile day"
            ],
            "metadata": {
                "azdata_cell_guid": "3eaf376d-9de3-4553-a9d0-9caf74ee3d6a"
            },
            "attachments": {}
        },
        {
            "cell_type": "markdown",
            "source": [
                "# Part 3: Summarize your Work\n",
                "\n",
                "For each event write at least one query that joins any two tables in the BooksDB to support your choice and record you thoughts as to why you used the paticlular query. At least one of your queries needs to include a HAVING clause."
            ],
            "metadata": {
                "azdata_cell_guid": "1ba1363a-4f02-4962-a95a-93b80c5926b1"
            },
            "attachments": {}
        },
        {
            "cell_type": "code",
            "source": [
                "-- Event 1 \r\n",
                "SELECT  count(t.tag_name) as \"total count\",t.tag_name, bt.tag_id\r\n",
                "FROM BooksDB.dbo.book_tags AS bt\r\n",
                "INNER JOIN BooksDB.dbo.tags AS t \r\n",
                "ON bt.tag_id = t.tag_id\r\n",
                "GROUP BY t.tag_name, bt.tag_id\r\n",
                "HAVING t.tag_name LIKE '%halloween%'\r\n",
                "ORDER BY count(t.tag_name) DESC"
            ],
            "metadata": {
                "azdata_cell_guid": "f50d32ce-4cb2-4af2-acb1-607777a76cf8",
                "language": "sql",
                "tags": []
            },
            "outputs": [
                {
                    "output_type": "display_data",
                    "data": {
                        "text/html": "(8 rows affected)"
                    },
                    "metadata": {}
                },
                {
                    "output_type": "display_data",
                    "data": {
                        "text/html": "Total execution time: 00:00:00.235"
                    },
                    "metadata": {}
                },
                {
                    "output_type": "execute_result",
                    "metadata": {},
                    "execution_count": 25,
                    "data": {
                        "application/vnd.dataresource+json": {
                            "schema": {
                                "fields": [
                                    {
                                        "name": "total count"
                                    },
                                    {
                                        "name": "tag_name"
                                    },
                                    {
                                        "name": "tag_id"
                                    }
                                ]
                            },
                            "data": [
                                {
                                    "0": "63",
                                    "1": "halloween",
                                    "2": "13873"
                                },
                                {
                                    "0": "6",
                                    "1": "halloween-reads",
                                    "2": "13876"
                                },
                                {
                                    "0": "2",
                                    "1": "halloween-books",
                                    "2": "13874"
                                },
                                {
                                    "0": "1",
                                    "1": "halloween-reading",
                                    "2": "13875"
                                },
                                {
                                    "0": "1",
                                    "1": "halloween-storytime",
                                    "2": "13877"
                                },
                                {
                                    "0": "1",
                                    "1": "holiday-halloween",
                                    "2": "14698"
                                },
                                {
                                    "0": "1",
                                    "1": "holidays-halloween",
                                    "2": "14706"
                                },
                                {
                                    "0": "1",
                                    "1": "spooky-reads-for-halloween",
                                    "2": "28416"
                                }
                            ]
                        },
                        "text/html": [
                            "<table>",
                            "<tr><th>total count</th><th>tag_name</th><th>tag_id</th></tr>",
                            "<tr><td>63</td><td>halloween</td><td>13873</td></tr>",
                            "<tr><td>6</td><td>halloween-reads</td><td>13876</td></tr>",
                            "<tr><td>2</td><td>halloween-books</td><td>13874</td></tr>",
                            "<tr><td>1</td><td>halloween-reading</td><td>13875</td></tr>",
                            "<tr><td>1</td><td>halloween-storytime</td><td>13877</td></tr>",
                            "<tr><td>1</td><td>holiday-halloween</td><td>14698</td></tr>",
                            "<tr><td>1</td><td>holidays-halloween</td><td>14706</td></tr>",
                            "<tr><td>1</td><td>spooky-reads-for-halloween</td><td>28416</td></tr>",
                            "</table>"
                        ]
                    }
                }
            ],
            "execution_count": 25
        },
        {
            "cell_type": "markdown",
            "source": [
                "### **Summary of event 1:**  \n",
                "\n",
                "### The highest number of tag\\_name for halloween is 63"
            ],
            "metadata": {
                "azdata_cell_guid": "3bc72d4c-077b-42d3-9528-9aff8e7b6cf3"
            },
            "attachments": {}
        },
        {
            "cell_type": "code",
            "source": [
                "-- Event 2 Query\r\n",
                "SELECT TOP 10  t.tag_name, bt.tag_id, SUM(bt.count) AS total\r\n",
                "FROM BooksDB.dbo.book_tags AS bt\r\n",
                "INNER JOIN BooksDB.dbo.tags AS t \r\n",
                "ON bt.tag_id = t.tag_id\r\n",
                "GROUP BY t.tag_name, bt.tag_id\r\n",
                "HAVING t.tag_name LIKE '%smile%'\r\n",
                "ORDER BY total DESC"
            ],
            "metadata": {
                "azdata_cell_guid": "dca0a98f-065f-4b0e-9d93-fcb01cad668c",
                "language": "sql"
            },
            "outputs": [
                {
                    "output_type": "display_data",
                    "data": {
                        "text/html": "(5 rows affected)"
                    },
                    "metadata": {}
                },
                {
                    "output_type": "display_data",
                    "data": {
                        "text/html": "Total execution time: 00:00:00.245"
                    },
                    "metadata": {}
                },
                {
                    "output_type": "execute_result",
                    "metadata": {},
                    "execution_count": 28,
                    "data": {
                        "application/vnd.dataresource+json": {
                            "schema": {
                                "fields": [
                                    {
                                        "name": "tag_name"
                                    },
                                    {
                                        "name": "tag_id"
                                    },
                                    {
                                        "name": "total"
                                    }
                                ]
                            },
                            "data": [
                                {
                                    "0": "smile",
                                    "1": "27962",
                                    "2": "382"
                                },
                                {
                                    "0": "george-smiley",
                                    "1": "13074",
                                    "2": "110"
                                },
                                {
                                    "0": "jane-smiley",
                                    "1": "16177",
                                    "2": "31"
                                },
                                {
                                    "0": "smiley",
                                    "1": "27963",
                                    "2": "17"
                                },
                                {
                                    "0": "smiley-jane",
                                    "1": "27964",
                                    "2": "6"
                                }
                            ]
                        },
                        "text/html": [
                            "<table>",
                            "<tr><th>tag_name</th><th>tag_id</th><th>total</th></tr>",
                            "<tr><td>smile</td><td>27962</td><td>382</td></tr>",
                            "<tr><td>george-smiley</td><td>13074</td><td>110</td></tr>",
                            "<tr><td>jane-smiley</td><td>16177</td><td>31</td></tr>",
                            "<tr><td>smiley</td><td>27963</td><td>17</td></tr>",
                            "<tr><td>smiley-jane</td><td>27964</td><td>6</td></tr>",
                            "</table>"
                        ]
                    }
                }
            ],
            "execution_count": 28
        },
        {
            "cell_type": "markdown",
            "source": [
                "### **Summary of event 2:**\n",
                "\n",
                "There are 5 tag\\_names with smile"
            ],
            "metadata": {
                "azdata_cell_guid": "99d518dc-cd8b-42d6-9a9d-708771c9aa99"
            },
            "attachments": {}
        }
    ]
}